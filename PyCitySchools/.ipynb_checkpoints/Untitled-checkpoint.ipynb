{
 "cells": [
  {
   "cell_type": "code",
   "execution_count": 1,
   "id": "127b26da",
   "metadata": {},
   "outputs": [],
   "source": [
    "import pandas as pd\n"
   ]
  },
  {
   "cell_type": "code",
   "execution_count": null,
   "id": "c3a43325",
   "metadata": {},
   "outputs": [],
   "source": [
    "# locate source csv\n",
    "schools_complete_csv = \"Resources/schools_complete.csv\"\n",
    "students_complete_csv = \"Resources/students_comlete.csv\"\n"
   ]
  },
  {
   "cell_type": "code",
   "execution_count": null,
   "id": "699f680e",
   "metadata": {},
   "outputs": [],
   "source": [
    "# import csv as data frames\n",
    "schools_complete_df = pd.read_csv(schools_complete_csv)\n",
    "students_complete_df = pd.read_csv(students_complete_csv)"
   ]
  },
  {
   "cell_type": "code",
   "execution_count": null,
   "id": "174947f0",
   "metadata": {},
   "outputs": [],
   "source": [
    "# see the df\n",
    "schools_complete_df.head()"
   ]
  },
  {
   "cell_type": "code",
   "execution_count": null,
   "id": "193375e3",
   "metadata": {},
   "outputs": [],
   "source": [
    "#see the df\n",
    "students_complete_df.head()"
   ]
  },
  {
   "cell_type": "code",
   "execution_count": null,
   "id": "c8117da0",
   "metadata": {},
   "outputs": [],
   "source": [
    "#merge the two df into one master column based on school name \n",
    "schooldatacomplete_df = pd.merge(schools_complete_df, students_complete_df, how=\"left\", on=[\"school_name\", \"school_name\"])\n",
    "achoolsdatacomplete_df.head()\n"
   ]
  }
 ],
 "metadata": {
  "kernelspec": {
   "display_name": "Python 3 (ipykernel)",
   "language": "python",
   "name": "python3"
  },
  "language_info": {
   "codemirror_mode": {
    "name": "ipython",
    "version": 3
   },
   "file_extension": ".py",
   "mimetype": "text/x-python",
   "name": "python",
   "nbconvert_exporter": "python",
   "pygments_lexer": "ipython3",
   "version": "3.9.12"
  }
 },
 "nbformat": 4,
 "nbformat_minor": 5
}
